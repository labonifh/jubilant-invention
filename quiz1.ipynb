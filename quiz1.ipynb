{
  "nbformat": 4,
  "nbformat_minor": 0,
  "metadata": {
    "colab": {
      "name": "quiz1.ipynb",
      "version": "0.3.2",
      "provenance": [],
      "collapsed_sections": []
    },
    "kernelspec": {
      "name": "python3",
      "display_name": "Python 3"
    }
  },
  "cells": [
    {
      "cell_type": "code",
      "metadata": {
        "id": "1jRtgdQH6cPH",
        "colab_type": "code",
        "outputId": "356f01c4-e547-4787-f51f-2dcc6303d426",
        "colab": {
          "base_uri": "https://localhost:8080/",
          "height": 411
        }
      },
      "source": [
        "import pandas as pd\n",
        "\n",
        "! wget https://raw.githubusercontent.com/bcaffo/ds4bme_intro/master/data/kirby127a_3_1_ax_283Labels_M2_corrected_stats.csv\n",
        "\n",
        "df = pd.read_csv(\"/content/kirby127a_3_1_ax_283Labels_M2_corrected_stats.csv\")\n",
        "\n",
        "df.head(6)"
      ],
      "execution_count": 0,
      "outputs": [
        {
          "output_type": "stream",
          "text": [
            "--2019-09-05 01:36:43--  https://raw.githubusercontent.com/bcaffo/ds4bme_intro/master/data/kirby127a_3_1_ax_283Labels_M2_corrected_stats.csv\n",
            "Resolving raw.githubusercontent.com (raw.githubusercontent.com)... 151.101.0.133, 151.101.64.133, 151.101.128.133, ...\n",
            "Connecting to raw.githubusercontent.com (raw.githubusercontent.com)|151.101.0.133|:443... connected.\n",
            "HTTP request sent, awaiting response... 200 OK\n",
            "Length: 61456 (60K) [text/plain]\n",
            "Saving to: ‘kirby127a_3_1_ax_283Labels_M2_corrected_stats.csv.1’\n",
            "\n",
            "\r          kirby127a   0%[                    ]       0  --.-KB/s               \rkirby127a_3_1_ax_28 100%[===================>]  60.02K  --.-KB/s    in 0.02s   \n",
            "\n",
            "2019-09-05 01:36:43 (3.82 MB/s) - ‘kirby127a_3_1_ax_283Labels_M2_corrected_stats.csv.1’ saved [61456/61456]\n",
            "\n"
          ],
          "name": "stdout"
        },
        {
          "output_type": "execute_result",
          "data": {
            "text/html": [
              "<div>\n",
              "<style scoped>\n",
              "    .dataframe tbody tr th:only-of-type {\n",
              "        vertical-align: middle;\n",
              "    }\n",
              "\n",
              "    .dataframe tbody tr th {\n",
              "        vertical-align: top;\n",
              "    }\n",
              "\n",
              "    .dataframe thead th {\n",
              "        text-align: right;\n",
              "    }\n",
              "</style>\n",
              "<table border=\"1\" class=\"dataframe\">\n",
              "  <thead>\n",
              "    <tr style=\"text-align: right;\">\n",
              "      <th></th>\n",
              "      <th>Unnamed: 0</th>\n",
              "      <th>rawid</th>\n",
              "      <th>roi</th>\n",
              "      <th>volume</th>\n",
              "      <th>min</th>\n",
              "      <th>max</th>\n",
              "      <th>mean</th>\n",
              "      <th>std</th>\n",
              "      <th>type</th>\n",
              "      <th>level</th>\n",
              "    </tr>\n",
              "  </thead>\n",
              "  <tbody>\n",
              "    <tr>\n",
              "      <th>0</th>\n",
              "      <td>1</td>\n",
              "      <td>kirby127a_3_1_ax.img</td>\n",
              "      <td>Telencephalon_L</td>\n",
              "      <td>531111</td>\n",
              "      <td>0</td>\n",
              "      <td>374</td>\n",
              "      <td>128.3013</td>\n",
              "      <td>51.8593</td>\n",
              "      <td>1</td>\n",
              "      <td>1</td>\n",
              "    </tr>\n",
              "    <tr>\n",
              "      <th>1</th>\n",
              "      <td>2</td>\n",
              "      <td>kirby127a_3_1_ax.img</td>\n",
              "      <td>Telencephalon_R</td>\n",
              "      <td>543404</td>\n",
              "      <td>0</td>\n",
              "      <td>300</td>\n",
              "      <td>135.0683</td>\n",
              "      <td>53.6471</td>\n",
              "      <td>1</td>\n",
              "      <td>1</td>\n",
              "    </tr>\n",
              "    <tr>\n",
              "      <th>2</th>\n",
              "      <td>3</td>\n",
              "      <td>kirby127a_3_1_ax.img</td>\n",
              "      <td>Diencephalon_L</td>\n",
              "      <td>9683</td>\n",
              "      <td>15</td>\n",
              "      <td>295</td>\n",
              "      <td>193.5488</td>\n",
              "      <td>32.2733</td>\n",
              "      <td>1</td>\n",
              "      <td>1</td>\n",
              "    </tr>\n",
              "    <tr>\n",
              "      <th>3</th>\n",
              "      <td>4</td>\n",
              "      <td>kirby127a_3_1_ax.img</td>\n",
              "      <td>Diencephalon_R</td>\n",
              "      <td>9678</td>\n",
              "      <td>10</td>\n",
              "      <td>335</td>\n",
              "      <td>193.7051</td>\n",
              "      <td>32.7869</td>\n",
              "      <td>1</td>\n",
              "      <td>1</td>\n",
              "    </tr>\n",
              "    <tr>\n",
              "      <th>4</th>\n",
              "      <td>5</td>\n",
              "      <td>kirby127a_3_1_ax.img</td>\n",
              "      <td>Mesencephalon</td>\n",
              "      <td>10268</td>\n",
              "      <td>55</td>\n",
              "      <td>307</td>\n",
              "      <td>230.8583</td>\n",
              "      <td>29.2249</td>\n",
              "      <td>1</td>\n",
              "      <td>1</td>\n",
              "    </tr>\n",
              "    <tr>\n",
              "      <th>5</th>\n",
              "      <td>6</td>\n",
              "      <td>kirby127a_3_1_ax.img</td>\n",
              "      <td>Metencephalon</td>\n",
              "      <td>159402</td>\n",
              "      <td>2</td>\n",
              "      <td>299</td>\n",
              "      <td>138.5200</td>\n",
              "      <td>52.2241</td>\n",
              "      <td>1</td>\n",
              "      <td>1</td>\n",
              "    </tr>\n",
              "  </tbody>\n",
              "</table>\n",
              "</div>"
            ],
            "text/plain": [
              "   Unnamed: 0                 rawid              roi  ...      std  type  level\n",
              "0           1  kirby127a_3_1_ax.img  Telencephalon_L  ...  51.8593     1      1\n",
              "1           2  kirby127a_3_1_ax.img  Telencephalon_R  ...  53.6471     1      1\n",
              "2           3  kirby127a_3_1_ax.img   Diencephalon_L  ...  32.2733     1      1\n",
              "3           4  kirby127a_3_1_ax.img   Diencephalon_R  ...  32.7869     1      1\n",
              "4           5  kirby127a_3_1_ax.img    Mesencephalon  ...  29.2249     1      1\n",
              "5           6  kirby127a_3_1_ax.img    Metencephalon  ...  52.2241     1      1\n",
              "\n",
              "[6 rows x 10 columns]"
            ]
          },
          "metadata": {
            "tags": []
          },
          "execution_count": 7
        }
      ]
    },
    {
      "cell_type": "code",
      "metadata": {
        "id": "nKx2RBKqFdI8",
        "colab_type": "code",
        "colab": {}
      },
      "source": [
        ""
      ],
      "execution_count": 0,
      "outputs": []
    }
  ]
}